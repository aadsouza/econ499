{
 "cells": [
  {
   "cell_type": "code",
   "execution_count": 51,
   "metadata": {},
   "outputs": [],
   "source": [
    "import pandas as pd\n",
    "import matplotlib.pyplot as plt"
   ]
  },
  {
   "cell_type": "code",
   "execution_count": 52,
   "metadata": {},
   "outputs": [],
   "source": [
    "rifdiddata = pd.read_excel(\"/Users/amedeusdsouza/econ499/linreg/rifdiddiagnostics_coefs.xlsx\") #diagnostics, here white = all races (BwH) with control for hisprace"
   ]
  },
  {
   "cell_type": "code",
   "execution_count": 53,
   "metadata": {},
   "outputs": [
    {
     "data": {
      "text/html": [
       "<div>\n",
       "<style scoped>\n",
       "    .dataframe tbody tr th:only-of-type {\n",
       "        vertical-align: middle;\n",
       "    }\n",
       "\n",
       "    .dataframe tbody tr th {\n",
       "        vertical-align: top;\n",
       "    }\n",
       "\n",
       "    .dataframe thead th {\n",
       "        text-align: right;\n",
       "    }\n",
       "</style>\n",
       "<table border=\"1\" class=\"dataframe\">\n",
       "  <thead>\n",
       "    <tr style=\"text-align: right;\">\n",
       "      <th></th>\n",
       "      <th>name</th>\n",
       "      <th>coef</th>\n",
       "      <th>bse</th>\n",
       "      <th>lb</th>\n",
       "      <th>ub</th>\n",
       "    </tr>\n",
       "  </thead>\n",
       "  <tbody>\n",
       "    <tr>\n",
       "      <th>0</th>\n",
       "      <td>m_treat_st10</td>\n",
       "      <td>-0.038099</td>\n",
       "      <td>0.006157</td>\n",
       "      <td>-0.050166</td>\n",
       "      <td>-0.026033</td>\n",
       "    </tr>\n",
       "    <tr>\n",
       "      <th>1</th>\n",
       "      <td>f_treat_st10</td>\n",
       "      <td>-0.011538</td>\n",
       "      <td>0.005576</td>\n",
       "      <td>-0.022467</td>\n",
       "      <td>-0.000609</td>\n",
       "    </tr>\n",
       "    <tr>\n",
       "      <th>2</th>\n",
       "      <td>nm_treat_st10</td>\n",
       "      <td>-0.032010</td>\n",
       "      <td>0.006353</td>\n",
       "      <td>-0.044461</td>\n",
       "      <td>-0.019560</td>\n",
       "    </tr>\n",
       "    <tr>\n",
       "      <th>3</th>\n",
       "      <td>nf_treat_st10</td>\n",
       "      <td>-0.003955</td>\n",
       "      <td>0.005657</td>\n",
       "      <td>-0.015044</td>\n",
       "      <td>0.007133</td>\n",
       "    </tr>\n",
       "    <tr>\n",
       "      <th>4</th>\n",
       "      <td>um_treat_st10</td>\n",
       "      <td>-0.055477</td>\n",
       "      <td>0.019828</td>\n",
       "      <td>-0.094340</td>\n",
       "      <td>-0.016614</td>\n",
       "    </tr>\n",
       "    <tr>\n",
       "      <th>5</th>\n",
       "      <td>uf_treat_st10</td>\n",
       "      <td>0.020361</td>\n",
       "      <td>0.023140</td>\n",
       "      <td>-0.024993</td>\n",
       "      <td>0.065715</td>\n",
       "    </tr>\n",
       "    <tr>\n",
       "      <th>6</th>\n",
       "      <td>m_treat_st20</td>\n",
       "      <td>-0.037264</td>\n",
       "      <td>0.006548</td>\n",
       "      <td>-0.050099</td>\n",
       "      <td>-0.024430</td>\n",
       "    </tr>\n",
       "    <tr>\n",
       "      <th>7</th>\n",
       "      <td>f_treat_st20</td>\n",
       "      <td>-0.035664</td>\n",
       "      <td>0.005555</td>\n",
       "      <td>-0.046552</td>\n",
       "      <td>-0.024776</td>\n",
       "    </tr>\n",
       "    <tr>\n",
       "      <th>8</th>\n",
       "      <td>nm_treat_st20</td>\n",
       "      <td>-0.032108</td>\n",
       "      <td>0.006642</td>\n",
       "      <td>-0.045125</td>\n",
       "      <td>-0.019090</td>\n",
       "    </tr>\n",
       "    <tr>\n",
       "      <th>9</th>\n",
       "      <td>nf_treat_st20</td>\n",
       "      <td>-0.026294</td>\n",
       "      <td>0.005440</td>\n",
       "      <td>-0.036956</td>\n",
       "      <td>-0.015633</td>\n",
       "    </tr>\n",
       "    <tr>\n",
       "      <th>10</th>\n",
       "      <td>um_treat_st20</td>\n",
       "      <td>-0.043538</td>\n",
       "      <td>0.017205</td>\n",
       "      <td>-0.077260</td>\n",
       "      <td>-0.009815</td>\n",
       "    </tr>\n",
       "    <tr>\n",
       "      <th>11</th>\n",
       "      <td>uf_treat_st20</td>\n",
       "      <td>-0.000730</td>\n",
       "      <td>0.018621</td>\n",
       "      <td>-0.037226</td>\n",
       "      <td>0.035767</td>\n",
       "    </tr>\n",
       "    <tr>\n",
       "      <th>12</th>\n",
       "      <td>m_treat_st30</td>\n",
       "      <td>-0.038797</td>\n",
       "      <td>0.006577</td>\n",
       "      <td>-0.051687</td>\n",
       "      <td>-0.025907</td>\n",
       "    </tr>\n",
       "    <tr>\n",
       "      <th>13</th>\n",
       "      <td>f_treat_st30</td>\n",
       "      <td>-0.024942</td>\n",
       "      <td>0.006034</td>\n",
       "      <td>-0.036769</td>\n",
       "      <td>-0.013114</td>\n",
       "    </tr>\n",
       "    <tr>\n",
       "      <th>14</th>\n",
       "      <td>nm_treat_st30</td>\n",
       "      <td>-0.032130</td>\n",
       "      <td>0.006834</td>\n",
       "      <td>-0.045525</td>\n",
       "      <td>-0.018735</td>\n",
       "    </tr>\n",
       "    <tr>\n",
       "      <th>15</th>\n",
       "      <td>nf_treat_st30</td>\n",
       "      <td>-0.027860</td>\n",
       "      <td>0.006139</td>\n",
       "      <td>-0.039892</td>\n",
       "      <td>-0.015829</td>\n",
       "    </tr>\n",
       "    <tr>\n",
       "      <th>16</th>\n",
       "      <td>um_treat_st30</td>\n",
       "      <td>-0.044154</td>\n",
       "      <td>0.014581</td>\n",
       "      <td>-0.072732</td>\n",
       "      <td>-0.015575</td>\n",
       "    </tr>\n",
       "    <tr>\n",
       "      <th>17</th>\n",
       "      <td>uf_treat_st30</td>\n",
       "      <td>-0.019754</td>\n",
       "      <td>0.017234</td>\n",
       "      <td>-0.053532</td>\n",
       "      <td>0.014023</td>\n",
       "    </tr>\n",
       "    <tr>\n",
       "      <th>18</th>\n",
       "      <td>m_treat_st40</td>\n",
       "      <td>-0.045834</td>\n",
       "      <td>0.006657</td>\n",
       "      <td>-0.058881</td>\n",
       "      <td>-0.032788</td>\n",
       "    </tr>\n",
       "    <tr>\n",
       "      <th>19</th>\n",
       "      <td>f_treat_st40</td>\n",
       "      <td>-0.024706</td>\n",
       "      <td>0.005990</td>\n",
       "      <td>-0.036445</td>\n",
       "      <td>-0.012967</td>\n",
       "    </tr>\n",
       "    <tr>\n",
       "      <th>20</th>\n",
       "      <td>nm_treat_st40</td>\n",
       "      <td>-0.029502</td>\n",
       "      <td>0.006962</td>\n",
       "      <td>-0.043148</td>\n",
       "      <td>-0.015857</td>\n",
       "    </tr>\n",
       "    <tr>\n",
       "      <th>21</th>\n",
       "      <td>nf_treat_st40</td>\n",
       "      <td>-0.022419</td>\n",
       "      <td>0.006203</td>\n",
       "      <td>-0.034576</td>\n",
       "      <td>-0.010262</td>\n",
       "    </tr>\n",
       "    <tr>\n",
       "      <th>22</th>\n",
       "      <td>um_treat_st40</td>\n",
       "      <td>-0.041042</td>\n",
       "      <td>0.013347</td>\n",
       "      <td>-0.067202</td>\n",
       "      <td>-0.014882</td>\n",
       "    </tr>\n",
       "    <tr>\n",
       "      <th>23</th>\n",
       "      <td>uf_treat_st40</td>\n",
       "      <td>-0.030119</td>\n",
       "      <td>0.015281</td>\n",
       "      <td>-0.060069</td>\n",
       "      <td>-0.000169</td>\n",
       "    </tr>\n",
       "    <tr>\n",
       "      <th>24</th>\n",
       "      <td>m_treat_st50</td>\n",
       "      <td>-0.039979</td>\n",
       "      <td>0.006537</td>\n",
       "      <td>-0.052792</td>\n",
       "      <td>-0.027166</td>\n",
       "    </tr>\n",
       "    <tr>\n",
       "      <th>25</th>\n",
       "      <td>f_treat_st50</td>\n",
       "      <td>-0.033448</td>\n",
       "      <td>0.006143</td>\n",
       "      <td>-0.045488</td>\n",
       "      <td>-0.021408</td>\n",
       "    </tr>\n",
       "    <tr>\n",
       "      <th>26</th>\n",
       "      <td>nm_treat_st50</td>\n",
       "      <td>-0.026563</td>\n",
       "      <td>0.007056</td>\n",
       "      <td>-0.040391</td>\n",
       "      <td>-0.012734</td>\n",
       "    </tr>\n",
       "    <tr>\n",
       "      <th>27</th>\n",
       "      <td>nf_treat_st50</td>\n",
       "      <td>-0.027435</td>\n",
       "      <td>0.006401</td>\n",
       "      <td>-0.039981</td>\n",
       "      <td>-0.014888</td>\n",
       "    </tr>\n",
       "    <tr>\n",
       "      <th>28</th>\n",
       "      <td>um_treat_st50</td>\n",
       "      <td>-0.053955</td>\n",
       "      <td>0.012333</td>\n",
       "      <td>-0.078127</td>\n",
       "      <td>-0.029782</td>\n",
       "    </tr>\n",
       "    <tr>\n",
       "      <th>29</th>\n",
       "      <td>uf_treat_st50</td>\n",
       "      <td>-0.054052</td>\n",
       "      <td>0.014887</td>\n",
       "      <td>-0.083230</td>\n",
       "      <td>-0.024874</td>\n",
       "    </tr>\n",
       "    <tr>\n",
       "      <th>30</th>\n",
       "      <td>m_treat_st60</td>\n",
       "      <td>-0.035650</td>\n",
       "      <td>0.006679</td>\n",
       "      <td>-0.048741</td>\n",
       "      <td>-0.022560</td>\n",
       "    </tr>\n",
       "    <tr>\n",
       "      <th>31</th>\n",
       "      <td>f_treat_st60</td>\n",
       "      <td>-0.033385</td>\n",
       "      <td>0.006141</td>\n",
       "      <td>-0.045420</td>\n",
       "      <td>-0.021350</td>\n",
       "    </tr>\n",
       "    <tr>\n",
       "      <th>32</th>\n",
       "      <td>nm_treat_st60</td>\n",
       "      <td>-0.024703</td>\n",
       "      <td>0.007556</td>\n",
       "      <td>-0.039512</td>\n",
       "      <td>-0.009894</td>\n",
       "    </tr>\n",
       "    <tr>\n",
       "      <th>33</th>\n",
       "      <td>nf_treat_st60</td>\n",
       "      <td>-0.029623</td>\n",
       "      <td>0.006794</td>\n",
       "      <td>-0.042938</td>\n",
       "      <td>-0.016308</td>\n",
       "    </tr>\n",
       "    <tr>\n",
       "      <th>34</th>\n",
       "      <td>um_treat_st60</td>\n",
       "      <td>-0.066063</td>\n",
       "      <td>0.012141</td>\n",
       "      <td>-0.089860</td>\n",
       "      <td>-0.042266</td>\n",
       "    </tr>\n",
       "    <tr>\n",
       "      <th>35</th>\n",
       "      <td>uf_treat_st60</td>\n",
       "      <td>-0.061319</td>\n",
       "      <td>0.014640</td>\n",
       "      <td>-0.090012</td>\n",
       "      <td>-0.032625</td>\n",
       "    </tr>\n",
       "    <tr>\n",
       "      <th>36</th>\n",
       "      <td>m_treat_st70</td>\n",
       "      <td>-0.046792</td>\n",
       "      <td>0.006977</td>\n",
       "      <td>-0.060466</td>\n",
       "      <td>-0.033118</td>\n",
       "    </tr>\n",
       "    <tr>\n",
       "      <th>37</th>\n",
       "      <td>f_treat_st70</td>\n",
       "      <td>-0.033352</td>\n",
       "      <td>0.006757</td>\n",
       "      <td>-0.046595</td>\n",
       "      <td>-0.020109</td>\n",
       "    </tr>\n",
       "    <tr>\n",
       "      <th>38</th>\n",
       "      <td>nm_treat_st70</td>\n",
       "      <td>-0.031834</td>\n",
       "      <td>0.007981</td>\n",
       "      <td>-0.047477</td>\n",
       "      <td>-0.016192</td>\n",
       "    </tr>\n",
       "    <tr>\n",
       "      <th>39</th>\n",
       "      <td>nf_treat_st70</td>\n",
       "      <td>-0.022486</td>\n",
       "      <td>0.007421</td>\n",
       "      <td>-0.037031</td>\n",
       "      <td>-0.007940</td>\n",
       "    </tr>\n",
       "    <tr>\n",
       "      <th>40</th>\n",
       "      <td>um_treat_st70</td>\n",
       "      <td>-0.070342</td>\n",
       "      <td>0.011870</td>\n",
       "      <td>-0.093608</td>\n",
       "      <td>-0.047077</td>\n",
       "    </tr>\n",
       "    <tr>\n",
       "      <th>41</th>\n",
       "      <td>uf_treat_st70</td>\n",
       "      <td>-0.067161</td>\n",
       "      <td>0.015385</td>\n",
       "      <td>-0.097315</td>\n",
       "      <td>-0.037007</td>\n",
       "    </tr>\n",
       "    <tr>\n",
       "      <th>42</th>\n",
       "      <td>m_treat_st80</td>\n",
       "      <td>-0.035471</td>\n",
       "      <td>0.007527</td>\n",
       "      <td>-0.050224</td>\n",
       "      <td>-0.020718</td>\n",
       "    </tr>\n",
       "    <tr>\n",
       "      <th>43</th>\n",
       "      <td>f_treat_st80</td>\n",
       "      <td>-0.038002</td>\n",
       "      <td>0.007411</td>\n",
       "      <td>-0.052527</td>\n",
       "      <td>-0.023476</td>\n",
       "    </tr>\n",
       "    <tr>\n",
       "      <th>44</th>\n",
       "      <td>nm_treat_st80</td>\n",
       "      <td>-0.024315</td>\n",
       "      <td>0.009057</td>\n",
       "      <td>-0.042067</td>\n",
       "      <td>-0.006564</td>\n",
       "    </tr>\n",
       "    <tr>\n",
       "      <th>45</th>\n",
       "      <td>nf_treat_st80</td>\n",
       "      <td>-0.028401</td>\n",
       "      <td>0.008228</td>\n",
       "      <td>-0.044527</td>\n",
       "      <td>-0.012274</td>\n",
       "    </tr>\n",
       "    <tr>\n",
       "      <th>46</th>\n",
       "      <td>um_treat_st80</td>\n",
       "      <td>-0.057612</td>\n",
       "      <td>0.012712</td>\n",
       "      <td>-0.082527</td>\n",
       "      <td>-0.032698</td>\n",
       "    </tr>\n",
       "    <tr>\n",
       "      <th>47</th>\n",
       "      <td>uf_treat_st80</td>\n",
       "      <td>-0.081251</td>\n",
       "      <td>0.015794</td>\n",
       "      <td>-0.112207</td>\n",
       "      <td>-0.050294</td>\n",
       "    </tr>\n",
       "    <tr>\n",
       "      <th>48</th>\n",
       "      <td>m_treat_st90</td>\n",
       "      <td>-0.024899</td>\n",
       "      <td>0.007959</td>\n",
       "      <td>-0.040498</td>\n",
       "      <td>-0.009300</td>\n",
       "    </tr>\n",
       "    <tr>\n",
       "      <th>49</th>\n",
       "      <td>f_treat_st90</td>\n",
       "      <td>-0.050663</td>\n",
       "      <td>0.008782</td>\n",
       "      <td>-0.067875</td>\n",
       "      <td>-0.033451</td>\n",
       "    </tr>\n",
       "    <tr>\n",
       "      <th>50</th>\n",
       "      <td>nm_treat_st90</td>\n",
       "      <td>-0.022408</td>\n",
       "      <td>0.008942</td>\n",
       "      <td>-0.039934</td>\n",
       "      <td>-0.004882</td>\n",
       "    </tr>\n",
       "    <tr>\n",
       "      <th>51</th>\n",
       "      <td>nf_treat_st90</td>\n",
       "      <td>-0.039962</td>\n",
       "      <td>0.010115</td>\n",
       "      <td>-0.059786</td>\n",
       "      <td>-0.020138</td>\n",
       "    </tr>\n",
       "    <tr>\n",
       "      <th>52</th>\n",
       "      <td>um_treat_st90</td>\n",
       "      <td>-0.048385</td>\n",
       "      <td>0.015441</td>\n",
       "      <td>-0.078648</td>\n",
       "      <td>-0.018121</td>\n",
       "    </tr>\n",
       "    <tr>\n",
       "      <th>53</th>\n",
       "      <td>uf_treat_st90</td>\n",
       "      <td>-0.079102</td>\n",
       "      <td>0.018685</td>\n",
       "      <td>-0.115725</td>\n",
       "      <td>-0.042479</td>\n",
       "    </tr>\n",
       "  </tbody>\n",
       "</table>\n",
       "</div>"
      ],
      "text/plain": [
       "             name      coef       bse        lb        ub\n",
       "0    m_treat_st10 -0.038099  0.006157 -0.050166 -0.026033\n",
       "1    f_treat_st10 -0.011538  0.005576 -0.022467 -0.000609\n",
       "2   nm_treat_st10 -0.032010  0.006353 -0.044461 -0.019560\n",
       "3   nf_treat_st10 -0.003955  0.005657 -0.015044  0.007133\n",
       "4   um_treat_st10 -0.055477  0.019828 -0.094340 -0.016614\n",
       "5   uf_treat_st10  0.020361  0.023140 -0.024993  0.065715\n",
       "6    m_treat_st20 -0.037264  0.006548 -0.050099 -0.024430\n",
       "7    f_treat_st20 -0.035664  0.005555 -0.046552 -0.024776\n",
       "8   nm_treat_st20 -0.032108  0.006642 -0.045125 -0.019090\n",
       "9   nf_treat_st20 -0.026294  0.005440 -0.036956 -0.015633\n",
       "10  um_treat_st20 -0.043538  0.017205 -0.077260 -0.009815\n",
       "11  uf_treat_st20 -0.000730  0.018621 -0.037226  0.035767\n",
       "12   m_treat_st30 -0.038797  0.006577 -0.051687 -0.025907\n",
       "13   f_treat_st30 -0.024942  0.006034 -0.036769 -0.013114\n",
       "14  nm_treat_st30 -0.032130  0.006834 -0.045525 -0.018735\n",
       "15  nf_treat_st30 -0.027860  0.006139 -0.039892 -0.015829\n",
       "16  um_treat_st30 -0.044154  0.014581 -0.072732 -0.015575\n",
       "17  uf_treat_st30 -0.019754  0.017234 -0.053532  0.014023\n",
       "18   m_treat_st40 -0.045834  0.006657 -0.058881 -0.032788\n",
       "19   f_treat_st40 -0.024706  0.005990 -0.036445 -0.012967\n",
       "20  nm_treat_st40 -0.029502  0.006962 -0.043148 -0.015857\n",
       "21  nf_treat_st40 -0.022419  0.006203 -0.034576 -0.010262\n",
       "22  um_treat_st40 -0.041042  0.013347 -0.067202 -0.014882\n",
       "23  uf_treat_st40 -0.030119  0.015281 -0.060069 -0.000169\n",
       "24   m_treat_st50 -0.039979  0.006537 -0.052792 -0.027166\n",
       "25   f_treat_st50 -0.033448  0.006143 -0.045488 -0.021408\n",
       "26  nm_treat_st50 -0.026563  0.007056 -0.040391 -0.012734\n",
       "27  nf_treat_st50 -0.027435  0.006401 -0.039981 -0.014888\n",
       "28  um_treat_st50 -0.053955  0.012333 -0.078127 -0.029782\n",
       "29  uf_treat_st50 -0.054052  0.014887 -0.083230 -0.024874\n",
       "30   m_treat_st60 -0.035650  0.006679 -0.048741 -0.022560\n",
       "31   f_treat_st60 -0.033385  0.006141 -0.045420 -0.021350\n",
       "32  nm_treat_st60 -0.024703  0.007556 -0.039512 -0.009894\n",
       "33  nf_treat_st60 -0.029623  0.006794 -0.042938 -0.016308\n",
       "34  um_treat_st60 -0.066063  0.012141 -0.089860 -0.042266\n",
       "35  uf_treat_st60 -0.061319  0.014640 -0.090012 -0.032625\n",
       "36   m_treat_st70 -0.046792  0.006977 -0.060466 -0.033118\n",
       "37   f_treat_st70 -0.033352  0.006757 -0.046595 -0.020109\n",
       "38  nm_treat_st70 -0.031834  0.007981 -0.047477 -0.016192\n",
       "39  nf_treat_st70 -0.022486  0.007421 -0.037031 -0.007940\n",
       "40  um_treat_st70 -0.070342  0.011870 -0.093608 -0.047077\n",
       "41  uf_treat_st70 -0.067161  0.015385 -0.097315 -0.037007\n",
       "42   m_treat_st80 -0.035471  0.007527 -0.050224 -0.020718\n",
       "43   f_treat_st80 -0.038002  0.007411 -0.052527 -0.023476\n",
       "44  nm_treat_st80 -0.024315  0.009057 -0.042067 -0.006564\n",
       "45  nf_treat_st80 -0.028401  0.008228 -0.044527 -0.012274\n",
       "46  um_treat_st80 -0.057612  0.012712 -0.082527 -0.032698\n",
       "47  uf_treat_st80 -0.081251  0.015794 -0.112207 -0.050294\n",
       "48   m_treat_st90 -0.024899  0.007959 -0.040498 -0.009300\n",
       "49   f_treat_st90 -0.050663  0.008782 -0.067875 -0.033451\n",
       "50  nm_treat_st90 -0.022408  0.008942 -0.039934 -0.004882\n",
       "51  nf_treat_st90 -0.039962  0.010115 -0.059786 -0.020138\n",
       "52  um_treat_st90 -0.048385  0.015441 -0.078648 -0.018121\n",
       "53  uf_treat_st90 -0.079102  0.018685 -0.115725 -0.042479"
      ]
     },
     "execution_count": 53,
     "metadata": {},
     "output_type": "execute_result"
    }
   ],
   "source": [
    "rifdiddata"
   ]
  },
  {
   "cell_type": "markdown",
   "metadata": {},
   "source": [
    "# USING NOCC3 (4 occ), not NOCC2 (12 occ) - FIXME RESULTS WRONG HERE , RERUN ESTIMATES - MIXED 2000-2019, and 1988-2000 ESTIMATES!"
   ]
  },
  {
   "cell_type": "code",
   "execution_count": 54,
   "metadata": {},
   "outputs": [],
   "source": [
    "men = rifdiddata[rifdiddata.name.str.startswith(\"m\")]\n",
    "umen = rifdiddata[rifdiddata.name.str.startswith(\"um\")]\n",
    "nmen = rifdiddata[rifdiddata.name.str.startswith(\"nm\")]\n",
    "\n",
    "wom = rifdiddata[rifdiddata.name.str.startswith(\"f\")]\n",
    "uwom = rifdiddata[rifdiddata.name.str.startswith(\"uf\")]\n",
    "nwom = rifdiddata[rifdiddata.name.str.startswith(\"nf\")]"
   ]
  },
  {
   "cell_type": "markdown",
   "metadata": {},
   "source": [
    "# ALL MEN AND WOMEN - 2000-2019 (89-19 was same mess as b4)"
   ]
  },
  {
   "cell_type": "code",
   "execution_count": 55,
   "metadata": {},
   "outputs": [],
   "source": [
    "pd.set_option('mode.chained_assignment', None)"
   ]
  },
  {
   "cell_type": "code",
   "execution_count": 56,
   "metadata": {
    "scrolled": false
   },
   "outputs": [
    {
     "data": {
      "text/plain": [
       "<matplotlib.collections.PolyCollection at 0x7fde10d078b0>"
      ]
     },
     "execution_count": 56,
     "metadata": {},
     "output_type": "execute_result"
    },
    {
     "data": {
      "image/png": "[encoded data removed]",
      "text/plain": [
       "<Figure size 432x288 with 1 Axes>"
      ]
     },
     "metadata": {
      "needs_background": "light"
     },
     "output_type": "display_data"
    }
   ],
   "source": [
    "#Effect of treat_st on wages for all white men along distribution\n",
    "whitemen = men[men.name.str.startswith(\"m_treat_st\")]\n",
    "whitemen[\"percentile\"] = whitemen[\"name\"].str.strip().str[-2:].astype(int)\n",
    "\n",
    "whitemen[\"ols\"] =  -.0344215 #nocc3 using rifdid.log\n",
    "whitemen[\"lbols\"] = -.0586961\n",
    "whitemen[\"ubols\"] = -.0101469\n",
    "\n",
    "fig, ax = plt.subplots()\n",
    "ax.axhline(y = 0, color = \"black\", linestyle =\"--\")\n",
    "ax.plot(whitemen.percentile, whitemen.coef)\n",
    "ax.fill_between(whitemen.percentile, whitemen.lb, whitemen.ub, alpha = 0.1)\n",
    "ax.plot(whitemen.percentile, whitemen.ols, color = \"orange\")\n",
    "ax.fill_between(whitemen.percentile, whitemen.lbols, whitemen.ubols, alpha = 0.1, color = \"orange\")"
   ]
  },
  {
   "cell_type": "code",
   "execution_count": 57,
   "metadata": {},
   "outputs": [
    {
     "data": {
      "text/plain": [
       "<matplotlib.collections.PolyCollection at 0x7fde10df19d0>"
      ]
     },
     "execution_count": 57,
     "metadata": {},
     "output_type": "execute_result"
    },
    {
     "data": {
      "image/png": "[encoded data removed]",
      "text/plain": [
       "<Figure size 432x288 with 1 Axes>"
      ]
     },
     "metadata": {
      "needs_background": "light"
     },
     "output_type": "display_data"
    }
   ],
   "source": [
    "#Effect of treat_st on wages for all white women along distribution\n",
    "whitewom = wom[wom.name.str.startswith(\"f_treat_st\")]\n",
    "whitewom[\"percentile\"] = whitewom[\"name\"].str.strip().str[-2:].astype(int)\n",
    "\n",
    "whitewom[\"ols\"] = -.0309308\n",
    "whitewom[\"lbols\"] = -.0462193\n",
    "whitewom[\"ubols\"] = -.0156424\n",
    "\n",
    "fig, ax = plt.subplots()\n",
    "ax.axhline(y = 0, color = \"black\", linestyle =\"--\")\n",
    "ax.plot(whitewom.percentile, whitewom.coef)\n",
    "ax.fill_between(whitewom.percentile, whitewom.lb, whitewom.ub, alpha = 0.1)\n",
    "ax.plot(whitewom.percentile, whitewom.ols, color = \"orange\")\n",
    "ax.fill_between(whitewom.percentile, whitewom.lbols, whitewom.ubols, alpha = 0.1, color = \"orange\")"
   ]
  },
  {
   "cell_type": "markdown",
   "metadata": {},
   "source": [
    "# SPILLOVERS"
   ]
  },
  {
   "cell_type": "code",
   "execution_count": 60,
   "metadata": {},
   "outputs": [
    {
     "data": {
      "text/plain": [
       "<matplotlib.collections.PolyCollection at 0x7fde1056fac0>"
      ]
     },
     "execution_count": 60,
     "metadata": {},
     "output_type": "execute_result"
    },
    {
     "data": {
      "image/png": "[encoded data removed]",
      "text/plain": [
       "<Figure size 432x288 with 1 Axes>"
      ]
     },
     "metadata": {
      "needs_background": "light"
     },
     "output_type": "display_data"
    }
   ],
   "source": [
    "#Effect of treat_st on wages for all white men not covered by union along distribution\n",
    "nwhitemen = nmen[nmen.name.str.startswith(\"nm_treat_st\")]\n",
    "nwhitemen[\"percentile\"] = nwhitemen[\"name\"].str.strip().str[-2:].astype(int)\n",
    "\n",
    "nwhitemen[\"ols\"] = -.026\n",
    "nwhitemen[\"lbols\"] = -.0601432\n",
    "nwhitemen[\"ubols\"] = -.0007253\n",
    "\n",
    "fig, ax = plt.subplots()\n",
    "ax.axhline(y = 0, color = \"black\", linestyle =\"--\")\n",
    "ax.plot(nwhitemen.percentile, nwhitemen.coef)\n",
    "ax.fill_between(nwhitemen.percentile, nwhitemen.lb, nwhitemen.ub, alpha = 0.1)\n",
    "ax.plot(nwhitemen.percentile, nwhitemen.ols, color = \"orange\")\n",
    "ax.fill_between(nwhitemen.percentile, nwhitemen.lbols, nwhitemen.ubols, alpha = 0.1, color = \"orange\")"
   ]
  },
  {
   "cell_type": "code",
   "execution_count": 59,
   "metadata": {},
   "outputs": [
    {
     "data": {
      "text/plain": [
       "<matplotlib.collections.PolyCollection at 0x7fde10fe49d0>"
      ]
     },
     "execution_count": 59,
     "metadata": {},
     "output_type": "execute_result"
    },
    {
     "data": {
      "image/png": "[encoded data removed]",
      "text/plain": [
       "<Figure size 432x288 with 1 Axes>"
      ]
     },
     "metadata": {
      "needs_background": "light"
     },
     "output_type": "display_data"
    }
   ],
   "source": [
    "#Effect of treat_st on wages for all white women not covered by union along distribution\n",
    "nwhitewom = nwom[nwom.name.str.startswith(\"nf_treat_st\")]\n",
    "nwhitewom[\"percentile\"] = nwhitewom[\"name\"].str.strip().str[-2:].astype(int)\n",
    "\n",
    "nwhitewom[\"ols\"] = -.0261895\n",
    "nwhitewom[\"lbols\"] = -.0416044\n",
    "nwhitewom[\"ubols\"] = -.0107746\n",
    "\n",
    "fig, ax = plt.subplots()\n",
    "ax.axhline(y = 0, color = \"black\", linestyle =\"--\")\n",
    "ax.plot(nwhitewom.percentile, nwhitewom.coef)\n",
    "ax.fill_between(nwhitewom.percentile, nwhitewom.lb, nwhitewom.ub, alpha = 0.1)\n",
    "ax.plot(nwhitewom.percentile, nwhitewom.ols, color = \"orange\")\n",
    "ax.fill_between(nwhitewom.percentile, nwhitewom.lbols, nwhitewom.ubols, alpha = 0.1, color = \"orange\")"
   ]
  },
  {
   "cell_type": "markdown",
   "metadata": {},
   "source": [
    "# FOR THOSE COVERED BY UNION"
   ]
  },
  {
   "cell_type": "code",
   "execution_count": 37,
   "metadata": {},
   "outputs": [
    {
     "data": {
      "text/plain": [
       "<matplotlib.collections.PolyCollection at 0x7fde0f8fa8e0>"
      ]
     },
     "execution_count": 37,
     "metadata": {},
     "output_type": "execute_result"
    },
    {
     "data": {
      "image/png": "[encoded data removed]",
      "text/plain": [
       "<Figure size 432x288 with 1 Axes>"
      ]
     },
     "metadata": {
      "needs_background": "light"
     },
     "output_type": "display_data"
    }
   ],
   "source": [
    "#Effect of treat_st on wages for all white men covered by union along distribution\n",
    "uwhitemen = umen[umen.name.str.startswith(\"um_treat_st\")]\n",
    "uwhitemen[\"percentile\"] = uwhitemen[\"name\"].str.strip().str[-2:].astype(int)\n",
    "\n",
    "uwhitemen[\"ols\"] =  -.0514261\n",
    "uwhitemen[\"lbols\"] = -.1028992\n",
    "uwhitemen[\"ubols\"] = .000047\n",
    "\n",
    "fig, ax = plt.subplots()\n",
    "ax.axhline(y = 0, color = \"black\", linestyle =\"--\")\n",
    "ax.plot(uwhitemen.percentile, uwhitemen.coef)\n",
    "ax.fill_between(uwhitemen.percentile, uwhitemen.lb, uwhitemen.ub, alpha = 0.1)\n",
    "ax.plot(uwhitemen.percentile, uwhitemen.ols, color = \"orange\")\n",
    "ax.fill_between(uwhitemen.percentile, uwhitemen.lbols, uwhitemen.ubols, alpha = 0.1, color = \"orange\")"
   ]
  },
  {
   "cell_type": "code",
   "execution_count": 38,
   "metadata": {},
   "outputs": [
    {
     "data": {
      "text/plain": [
       "<matplotlib.collections.PolyCollection at 0x7fde0fbde4f0>"
      ]
     },
     "execution_count": 38,
     "metadata": {},
     "output_type": "execute_result"
    },
    {
     "data": {
      "image/png": "[encoded data removed]",
      "text/plain": [
       "<Figure size 432x288 with 1 Axes>"
      ]
     },
     "metadata": {
      "needs_background": "light"
     },
     "output_type": "display_data"
    }
   ],
   "source": [
    "#Effect of treat_st on wages for all white women covered by union along distribution\n",
    "uwhitewom = uwom[uwom.name.str.startswith(\"uf_treat_st\")]\n",
    "uwhitewom[\"percentile\"] = uwhitewom[\"name\"].str.strip().str[-2:].astype(int)\n",
    "\n",
    "uwhitewom[\"ols\"] = -.0429404\n",
    "uwhitewom[\"lbols\"] = -.0797728\n",
    "uwhitewom[\"ubols\"] = -.006108\n",
    "\n",
    "fig, ax = plt.subplots()\n",
    "ax.axhline(y = 0, color = \"black\", linestyle =\"--\")\n",
    "ax.plot(uwhitewom.percentile, uwhitewom.coef)\n",
    "ax.fill_between(uwhitewom.percentile, uwhitewom.lb, uwhitewom.ub, alpha = 0.1)\n",
    "ax.plot(uwhitewom.percentile, uwhitewom.ols, color = \"orange\")\n",
    "ax.fill_between(uwhitewom.percentile, uwhitewom.lbols, uwhitewom.ubols, alpha = 0.1, color = \"orange\")"
   ]
  }
 ],
 "metadata": {
  "kernelspec": {
   "display_name": "Python 3",
   "language": "python",
   "name": "python3"
  },
  "language_info": {
   "codemirror_mode": {
    "name": "ipython",
    "version": 3
   },
   "file_extension": ".py",
   "mimetype": "text/x-python",
   "name": "python",
   "nbconvert_exporter": "python",
   "pygments_lexer": "ipython3",
   "version": "3.8.5"
  }
 },
 "nbformat": 4,
 "nbformat_minor": 4
}
