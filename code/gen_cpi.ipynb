{
 "cells": [
  {
   "cell_type": "code",
   "execution_count": 1,
   "metadata": {
    "scrolled": true
   },
   "outputs": [],
   "source": [
    "# pip install fredapi  # https://github.com/mortada/fredapi"
   ]
  },
  {
   "cell_type": "code",
   "execution_count": 2,
   "metadata": {},
   "outputs": [],
   "source": [
    "import pandas as pd\n",
    "from fredapi import Fred\n",
    "fred = Fred(api_key=\"8bde0229a1293f24e1266a721d90a8d0\") # get api key here https://research.stlouisfed.org/docs/api/api_key.html"
   ]
  },
  {
   "cell_type": "code",
   "execution_count": 3,
   "metadata": {},
   "outputs": [],
   "source": [
    "def colgenerator(seriesname, colname):\n",
    "    '''ONLY FOR CPI VARIABLES'''\n",
    "    data = fred.get_series(seriesname)\n",
    "    data = pd.DataFrame(data)\n",
    "    data = data.rename(columns = {0: \"foo\"})\n",
    "    data = data.loc[(data.index >= \"1979-01-01\") & (data.index <= \"2019-12-01\")]\n",
    "    data[\"year\"] = data.index.year\n",
    "    resultraw = data.groupby(\"year\").mean()\n",
    "    resultreindexed = (resultraw / resultraw.loc[1979, \"foo\"]) * 100\n",
    "    resultreindexed = resultreindexed.rename(columns = {\"foo\": colname})\n",
    "    return resultreindexed\n",
    "    "
   ]
  },
  {
   "cell_type": "code",
   "execution_count": 4,
   "metadata": {},
   "outputs": [],
   "source": [
    "cpidata = colgenerator(\"CPIAUCSL\", \"cpi\") #seasonally adjusted"
   ]
  },
  {
   "cell_type": "code",
   "execution_count": 20,
   "metadata": {
    "scrolled": true
   },
   "outputs": [],
   "source": [
    "cpidata = round(cpidata, 3)\n",
    "foo = pd.DataFrame(pd.Series(cpidata.to_dict()[\"cpi\"]))\n",
    "foo = foo.rename(columns = {0: \"cpi\"})\n",
    "foo[\"code\"] = \"   replace cpi = \" + foo[\"cpi\"].astype(str) + \" if year == \" + foo.index.astype(str)\n",
    "foo = foo[\"code\"]"
   ]
  },
  {
   "cell_type": "code",
   "execution_count": 21,
   "metadata": {},
   "outputs": [
    {
     "name": "stdout",
     "output_type": "stream",
     "text": [
      "      replace cpi = 100.0 if year == 1979\n",
      "    replace cpi = 113.502 if year == 1980\n",
      "    replace cpi = 125.281 if year == 1981\n",
      "    replace cpi = 132.997 if year == 1982\n",
      "    replace cpi = 137.199 if year == 1983\n",
      "    replace cpi = 143.192 if year == 1984\n",
      "    replace cpi = 148.243 if year == 1985\n",
      "    replace cpi = 151.125 if year == 1986\n",
      "    replace cpi = 156.533 if year == 1987\n",
      "    replace cpi = 162.951 if year == 1988\n",
      "    replace cpi = 170.758 if year == 1989\n",
      "    replace cpi = 180.011 if year == 1990\n",
      "      replace cpi = 187.6 if year == 1991\n",
      "    replace cpi = 193.307 if year == 1992\n",
      "    replace cpi = 199.047 if year == 1993\n",
      "    replace cpi = 204.214 if year == 1994\n",
      "    replace cpi = 209.943 if year == 1995\n",
      "    replace cpi = 216.108 if year == 1996\n",
      "     replace cpi = 221.16 if year == 1997\n",
      "    replace cpi = 224.581 if year == 1998\n",
      "    replace cpi = 229.506 if year == 1999\n",
      "    replace cpi = 237.233 if year == 2000\n",
      "    replace cpi = 243.915 if year == 2001\n",
      "    replace cpi = 247.807 if year == 2002\n",
      "    replace cpi = 253.502 if year == 2003\n",
      "    replace cpi = 260.264 if year == 2004\n",
      "    replace cpi = 269.024 if year == 2005\n",
      "    replace cpi = 277.692 if year == 2006\n",
      "    replace cpi = 285.664 if year == 2007\n",
      "    replace cpi = 296.562 if year == 2008\n",
      "    replace cpi = 295.611 if year == 2009\n",
      "    replace cpi = 300.449 if year == 2010\n",
      "    replace cpi = 309.882 if year == 2011\n",
      "    replace cpi = 316.307 if year == 2012\n",
      "    replace cpi = 320.944 if year == 2013\n",
      "    replace cpi = 326.129 if year == 2014\n",
      "    replace cpi = 326.524 if year == 2015\n",
      "    replace cpi = 330.639 if year == 2016\n",
      "     replace cpi = 337.71 if year == 2017\n",
      "    replace cpi = 345.949 if year == 2018\n",
      "    replace cpi = 352.217 if year == 2019\n"
     ]
    }
   ],
   "source": [
    "print(foo.to_string(index=False))"
   ]
  },
  {
   "cell_type": "code",
   "execution_count": null,
   "metadata": {},
   "outputs": [],
   "source": []
  }
 ],
 "metadata": {
  "kernelspec": {
   "display_name": "Python 3",
   "language": "python",
   "name": "python3"
  },
  "language_info": {
   "codemirror_mode": {
    "name": "ipython",
    "version": 3
   },
   "file_extension": ".py",
   "mimetype": "text/x-python",
   "name": "python",
   "nbconvert_exporter": "python",
   "pygments_lexer": "ipython3",
   "version": "3.8.5"
  }
 },
 "nbformat": 4,
 "nbformat_minor": 4
}
