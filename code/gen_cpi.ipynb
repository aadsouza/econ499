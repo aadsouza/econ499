{
 "cells": [
  {
   "cell_type": "code",
   "execution_count": 1,
   "metadata": {
    "scrolled": true
   },
   "outputs": [],
   "source": [
    "# pip install fredapi  # https://github.com/mortada/fredapi"
   ]
  },
  {
   "cell_type": "code",
   "execution_count": 96,
   "metadata": {},
   "outputs": [],
   "source": [
    "import pandas as pd\n",
    "from fredapi import Fred\n",
    "fred = Fred(api_key=\"8bde0229a1293f24e1266a721d90a8d0\") # get api key here https://research.stlouisfed.org/docs/api/api_key.html\n",
    "pd.options.display.max_colwidth = 100"
   ]
  },
  {
   "cell_type": "code",
   "execution_count": 112,
   "metadata": {},
   "outputs": [],
   "source": [
    "def colgenerator(seriesname, colname):\n",
    "    '''ONLY FOR CPI VARIABLES'''\n",
    "    data = fred.get_series(seriesname)\n",
    "    data = pd.DataFrame(data)\n",
    "    data = data.rename(columns = {0: \"foo\"})\n",
    "    data = data.loc[(data.index >= \"1979-01-01\") & (data.index <= \"2019-12-01\")]\n",
    "    data[\"year\"] = data.index.year\n",
    "    \n",
    "    resultraw = data.groupby(\"year\").mean()\n",
    "    resultreindexed = (resultraw / resultraw.loc[1979, \"foo\"]) * 100\n",
    "    resultreindexed = resultreindexed.rename(columns = {\"foo\": colname})\n",
    "    \n",
    "    data[\"month\"] = data.index.month\n",
    "    data.loc[data[\"month\"].between(1, 3), \"quarter\"] = 1\n",
    "    data.loc[data[\"month\"].between(4, 6), \"quarter\"] = 2\n",
    "    data.loc[data[\"month\"].between(7, 9), \"quarter\"] = 3\n",
    "    data.loc[data[\"month\"].between(10, 12), \"quarter\"] = 4\n",
    "    data = data.drop(columns = [\"month\"])\n",
    "    \n",
    "    qresultraw = data.groupby([\"year\", \"quarter\"]).mean()\n",
    "    qresultreindexed = (qresultraw / qresultraw.loc[(1979, 1), \"foo\"]) * 100\n",
    "    qresultreindexed = qresultreindexed.rename(columns = {\"foo\": colname})\n",
    "    \n",
    "    return resultreindexed, qresultreindexed\n",
    "    "
   ]
  },
  {
   "cell_type": "code",
   "execution_count": 113,
   "metadata": {},
   "outputs": [],
   "source": [
    "cpidata = colgenerator(\"CPIAUCSL\", \"cpi\") #seasonally adjusted\n",
    "tcpidata = cpidata[0]\n",
    "qcpidata = cpidata[1]"
   ]
  },
  {
   "cell_type": "code",
   "execution_count": 114,
   "metadata": {
    "scrolled": true
   },
   "outputs": [],
   "source": [
    "tcpidata = round(tcpidata, 3)\n",
    "foo = pd.DataFrame(pd.Series(tcpidata.to_dict()[\"cpi\"]))\n",
    "foo = foo.rename(columns = {0: \"cpi\"})\n",
    "foo[\"code\"] = \"   replace cpi = \" + foo[\"cpi\"].astype(str) + \" if year == \" + foo.index.astype(str)\n",
    "foo = foo[\"code\"]"
   ]
  },
  {
   "cell_type": "code",
   "execution_count": 115,
   "metadata": {},
   "outputs": [
    {
     "name": "stdout",
     "output_type": "stream",
     "text": [
      "      replace cpi = 100.0 if year == 1979\n",
      "    replace cpi = 113.502 if year == 1980\n",
      "    replace cpi = 125.281 if year == 1981\n",
      "    replace cpi = 132.997 if year == 1982\n",
      "    replace cpi = 137.199 if year == 1983\n",
      "    replace cpi = 143.192 if year == 1984\n",
      "    replace cpi = 148.243 if year == 1985\n",
      "    replace cpi = 151.125 if year == 1986\n",
      "    replace cpi = 156.533 if year == 1987\n",
      "    replace cpi = 162.951 if year == 1988\n",
      "    replace cpi = 170.758 if year == 1989\n",
      "    replace cpi = 180.011 if year == 1990\n",
      "      replace cpi = 187.6 if year == 1991\n",
      "    replace cpi = 193.307 if year == 1992\n",
      "    replace cpi = 199.047 if year == 1993\n",
      "    replace cpi = 204.214 if year == 1994\n",
      "    replace cpi = 209.943 if year == 1995\n",
      "    replace cpi = 216.108 if year == 1996\n",
      "     replace cpi = 221.16 if year == 1997\n",
      "    replace cpi = 224.581 if year == 1998\n",
      "    replace cpi = 229.506 if year == 1999\n",
      "    replace cpi = 237.233 if year == 2000\n",
      "    replace cpi = 243.915 if year == 2001\n",
      "    replace cpi = 247.807 if year == 2002\n",
      "    replace cpi = 253.502 if year == 2003\n",
      "    replace cpi = 260.264 if year == 2004\n",
      "    replace cpi = 269.024 if year == 2005\n",
      "    replace cpi = 277.692 if year == 2006\n",
      "    replace cpi = 285.664 if year == 2007\n",
      "    replace cpi = 296.562 if year == 2008\n",
      "    replace cpi = 295.611 if year == 2009\n",
      "    replace cpi = 300.449 if year == 2010\n",
      "    replace cpi = 309.882 if year == 2011\n",
      "    replace cpi = 316.307 if year == 2012\n",
      "    replace cpi = 320.944 if year == 2013\n",
      "    replace cpi = 326.129 if year == 2014\n",
      "    replace cpi = 326.524 if year == 2015\n",
      "    replace cpi = 330.662 if year == 2016\n",
      "     replace cpi = 337.73 if year == 2017\n",
      "     replace cpi = 345.95 if year == 2018\n",
      "    replace cpi = 352.219 if year == 2019\n"
     ]
    }
   ],
   "source": [
    "print(foo.to_string(index=False))"
   ]
  },
  {
   "cell_type": "code",
   "execution_count": 108,
   "metadata": {},
   "outputs": [],
   "source": [
    "qcpidata = round(qcpidata, 3)\n",
    "foo = pd.DataFrame(pd.Series(qcpidata.to_dict()[\"cpi\"]))\n",
    "foo = foo.rename(columns = {0: \"cpi\"})\n",
    "foo = foo.reset_index().rename(columns = {\"level_0\": \"year\", \"level_1\": \"quarter\"})\n",
    "foo[\"code\"] = \"   replace qcpi = \" + foo[\"cpi\"].astype(str) + \" if year == \" + foo.year.astype(str) + \" & quarter == \" + foo.quarter.astype(int).astype(str)\n",
    "foo = foo[\"code\"]"
   ]
  },
  {
   "cell_type": "code",
   "execution_count": 109,
   "metadata": {
    "scrolled": false
   },
   "outputs": [
    {
     "name": "stdout",
     "output_type": "stream",
     "text": [
      "      replace qcpi = 100.0 if year == 1979 & quarter == 1\n",
      "    replace qcpi = 103.179 if year == 1979 & quarter == 2\n",
      "    replace qcpi = 106.503 if year == 1979 & quarter == 3\n",
      "    replace qcpi = 109.875 if year == 1979 & quarter == 4\n",
      "     replace qcpi = 114.21 if year == 1980 & quarter == 1\n",
      "    replace qcpi = 118.064 if year == 1980 & quarter == 2\n",
      "    replace qcpi = 120.279 if year == 1980 & quarter == 3\n",
      "    replace qcpi = 123.651 if year == 1980 & quarter == 4\n",
      "    replace qcpi = 127.071 if year == 1981 & quarter == 1\n",
      "    replace qcpi = 129.721 if year == 1981 & quarter == 2\n",
      "    replace qcpi = 133.333 if year == 1981 & quarter == 3\n",
      "    replace qcpi = 135.501 if year == 1981 & quarter == 4\n",
      "    replace qcpi = 136.705 if year == 1982 & quarter == 1\n",
      "     replace qcpi = 138.68 if year == 1982 & quarter == 2\n",
      "    replace qcpi = 141.089 if year == 1982 & quarter == 3\n",
      "    replace qcpi = 141.522 if year == 1982 & quarter == 4\n",
      "    replace qcpi = 141.618 if year == 1983 & quarter == 1\n",
      "    replace qcpi = 143.256 if year == 1983 & quarter == 2\n",
      "    replace qcpi = 144.653 if year == 1983 & quarter == 3\n",
      "    replace qcpi = 146.098 if year == 1983 & quarter == 4\n",
      "     replace qcpi = 148.17 if year == 1984 & quarter == 1\n",
      "    replace qcpi = 149.566 if year == 1984 & quarter == 2\n",
      "    replace qcpi = 150.867 if year == 1984 & quarter == 3\n",
      "    replace qcpi = 152.168 if year == 1984 & quarter == 4\n",
      "    replace qcpi = 153.565 if year == 1985 & quarter == 1\n",
      "    replace qcpi = 154.961 if year == 1985 & quarter == 2\n",
      "    replace qcpi = 155.925 if year == 1985 & quarter == 3\n",
      "    replace qcpi = 157.514 if year == 1985 & quarter == 4\n",
      "    replace qcpi = 158.333 if year == 1986 & quarter == 1\n",
      "    replace qcpi = 157.563 if year == 1986 & quarter == 2\n",
      "    replace qcpi = 158.526 if year == 1986 & quarter == 3\n",
      "    replace qcpi = 159.634 if year == 1986 & quarter == 4\n",
      "    replace qcpi = 161.561 if year == 1987 & quarter == 1\n",
      "    replace qcpi = 163.391 if year == 1987 & quarter == 2\n",
      "    replace qcpi = 165.125 if year == 1987 & quarter == 3\n",
      "    replace qcpi = 166.667 if year == 1987 & quarter == 4\n",
      "    replace qcpi = 167.967 if year == 1988 & quarter == 1\n",
      "    replace qcpi = 169.894 if year == 1988 & quarter == 2\n",
      "    replace qcpi = 171.965 if year == 1988 & quarter == 3\n",
      "    replace qcpi = 173.844 if year == 1988 & quarter == 4\n",
      "    replace qcpi = 175.819 if year == 1989 & quarter == 1\n",
      "    replace qcpi = 178.661 if year == 1989 & quarter == 2\n",
      "    replace qcpi = 180.058 if year == 1989 & quarter == 3\n",
      "    replace qcpi = 181.888 if year == 1989 & quarter == 4\n",
      "    replace qcpi = 185.019 if year == 1990 & quarter == 1\n",
      "     replace qcpi = 186.85 if year == 1990 & quarter == 2\n",
      "    replace qcpi = 190.077 if year == 1990 & quarter == 3\n",
      "    replace qcpi = 193.304 if year == 1990 & quarter == 4\n",
      "     replace qcpi = 194.75 if year == 1991 & quarter == 1\n",
      "    replace qcpi = 195.906 if year == 1991 & quarter == 2\n",
      "    replace qcpi = 197.399 if year == 1991 & quarter == 3\n",
      "    replace qcpi = 199.037 if year == 1991 & quarter == 4\n",
      "    replace qcpi = 200.385 if year == 1992 & quarter == 1\n",
      "    replace qcpi = 201.927 if year == 1992 & quarter == 2\n",
      "    replace qcpi = 203.468 if year == 1992 & quarter == 3\n",
      "     replace qcpi = 205.25 if year == 1992 & quarter == 4\n",
      "    replace qcpi = 206.744 if year == 1993 & quarter == 1\n",
      "    replace qcpi = 208.237 if year == 1993 & quarter == 2\n",
      "      replace qcpi = 209.2 if year == 1993 & quarter == 3\n",
      "    replace qcpi = 210.934 if year == 1993 & quarter == 4\n",
      "    replace qcpi = 211.994 if year == 1994 & quarter == 1\n",
      "    replace qcpi = 213.198 if year == 1994 & quarter == 2\n",
      "    replace qcpi = 215.173 if year == 1994 & quarter == 3\n",
      "    replace qcpi = 216.426 if year == 1994 & quarter == 4\n",
      "    replace qcpi = 218.015 if year == 1995 & quarter == 1\n",
      "    replace qcpi = 219.798 if year == 1995 & quarter == 2\n",
      "    replace qcpi = 220.906 if year == 1995 & quarter == 3\n",
      "     replace qcpi = 222.11 if year == 1995 & quarter == 4\n",
      "    replace qcpi = 224.085 if year == 1996 & quarter == 1\n",
      "    replace qcpi = 226.012 if year == 1996 & quarter == 2\n",
      "    replace qcpi = 227.312 if year == 1996 & quarter == 3\n",
      "    replace qcpi = 229.287 if year == 1996 & quarter == 4\n",
      "    replace qcpi = 230.684 if year == 1997 & quarter == 1\n",
      "    replace qcpi = 231.214 if year == 1997 & quarter == 2\n",
      "     replace qcpi = 232.37 if year == 1997 & quarter == 3\n",
      "    replace qcpi = 233.622 if year == 1997 & quarter == 4\n",
      "    replace qcpi = 234.104 if year == 1998 & quarter == 1\n",
      "    replace qcpi = 234.875 if year == 1998 & quarter == 2\n",
      "    replace qcpi = 236.079 if year == 1998 & quarter == 3\n",
      "    replace qcpi = 237.187 if year == 1998 & quarter == 4\n",
      "    replace qcpi = 238.054 if year == 1999 & quarter == 1\n",
      "    replace qcpi = 239.836 if year == 1999 & quarter == 2\n",
      "    replace qcpi = 241.618 if year == 1999 & quarter == 3\n",
      "    replace qcpi = 243.401 if year == 1999 & quarter == 4\n",
      "    replace qcpi = 245.809 if year == 2000 & quarter == 1\n",
      "    replace qcpi = 247.736 if year == 2000 & quarter == 2\n",
      "      replace qcpi = 250.0 if year == 2000 & quarter == 3\n",
      "    replace qcpi = 251.782 if year == 2000 & quarter == 4\n",
      "    replace qcpi = 254.191 if year == 2001 & quarter == 1\n",
      "    replace qcpi = 255.973 if year == 2001 & quarter == 2\n",
      "    replace qcpi = 256.696 if year == 2001 & quarter == 3\n",
      "    replace qcpi = 256.503 if year == 2001 & quarter == 4\n",
      "    replace qcpi = 257.322 if year == 2002 & quarter == 1\n",
      "    replace qcpi = 259.345 if year == 2002 & quarter == 2\n",
      "    replace qcpi = 260.742 if year == 2002 & quarter == 3\n",
      "    replace qcpi = 262.283 if year == 2002 & quarter == 4\n",
      "    replace qcpi = 264.981 if year == 2003 & quarter == 1\n",
      "    replace qcpi = 264.547 if year == 2003 & quarter == 2\n",
      "    replace qcpi = 266.522 if year == 2003 & quarter == 3\n",
      "    replace qcpi = 267.534 if year == 2003 & quarter == 4\n",
      "    replace qcpi = 269.798 if year == 2004 & quarter == 1\n",
      "    replace qcpi = 271.917 if year == 2004 & quarter == 2\n",
      "    replace qcpi = 273.651 if year == 2004 & quarter == 3\n",
      "     replace qcpi = 276.59 if year == 2004 & quarter == 4\n",
      "    replace qcpi = 277.987 if year == 2005 & quarter == 1\n",
      "    replace qcpi = 279.865 if year == 2005 & quarter == 2\n",
      "    replace qcpi = 284.104 if year == 2005 & quarter == 3\n",
      "    replace qcpi = 286.753 if year == 2005 & quarter == 4\n",
      "    replace qcpi = 288.247 if year == 2006 & quarter == 1\n",
      "    replace qcpi = 290.848 if year == 2006 & quarter == 2\n",
      "    replace qcpi = 293.593 if year == 2006 & quarter == 3\n",
      "    replace qcpi = 292.389 if year == 2006 & quarter == 4\n",
      "    replace qcpi = 295.256 if year == 2007 & quarter == 1\n",
      "      replace qcpi = 298.6 if year == 2007 & quarter == 2\n",
      "     replace qcpi = 300.49 if year == 2007 & quarter == 3\n",
      "    replace qcpi = 304.176 if year == 2007 & quarter == 4\n",
      "    replace qcpi = 307.471 if year == 2008 & quarter == 1\n",
      "    replace qcpi = 311.471 if year == 2008 & quarter == 2\n",
      "    replace qcpi = 316.273 if year == 2008 & quarter == 3\n",
      "     replace qcpi = 309.03 if year == 2008 & quarter == 4\n",
      "    replace qcpi = 306.904 if year == 2009 & quarter == 1\n",
      "    replace qcpi = 308.536 if year == 2009 & quarter == 2\n",
      "    replace qcpi = 311.191 if year == 2009 & quarter == 3\n",
      "    replace qcpi = 313.627 if year == 2009 & quarter == 4\n",
      "    replace qcpi = 314.124 if year == 2010 & quarter == 1\n",
      "    replace qcpi = 314.013 if year == 2010 & quarter == 2\n",
      "    replace qcpi = 314.934 if year == 2010 & quarter == 3\n",
      "    replace qcpi = 317.484 if year == 2010 & quarter == 4\n",
      "    replace qcpi = 320.872 if year == 2011 & quarter == 1\n",
      "    replace qcpi = 324.521 if year == 2011 & quarter == 2\n",
      "    replace qcpi = 326.637 if year == 2011 & quarter == 3\n",
      "    replace qcpi = 328.103 if year == 2011 & quarter == 4\n",
      "    replace qcpi = 329.951 if year == 2012 & quarter == 1\n",
      "    replace qcpi = 330.647 if year == 2012 & quarter == 2\n",
      "     replace qcpi = 332.14 if year == 2012 & quarter == 3\n",
      "    replace qcpi = 334.349 if year == 2012 & quarter == 4\n",
      "    replace qcpi = 335.693 if year == 2013 & quarter == 1\n",
      "    replace qcpi = 335.325 if year == 2013 & quarter == 2\n",
      "    replace qcpi = 337.139 if year == 2013 & quarter == 3\n",
      "    replace qcpi = 338.385 if year == 2013 & quarter == 4\n",
      "    replace qcpi = 340.493 if year == 2014 & quarter == 1\n",
      "    replace qcpi = 342.301 if year == 2014 & quarter == 2\n",
      "    replace qcpi = 343.177 if year == 2014 & quarter == 3\n",
      "    replace qcpi = 342.324 if year == 2014 & quarter == 4\n",
      "    replace qcpi = 340.108 if year == 2015 & quarter == 1\n",
      "    replace qcpi = 342.428 if year == 2015 & quarter == 2\n",
      "    replace qcpi = 343.721 if year == 2015 & quarter == 3\n",
      "    replace qcpi = 343.695 if year == 2015 & quarter == 4\n",
      "    replace qcpi = 343.482 if year == 2016 & quarter == 1\n",
      "    replace qcpi = 346.229 if year == 2016 & quarter == 2\n",
      "    replace qcpi = 347.698 if year == 2016 & quarter == 3\n",
      "    replace qcpi = 349.906 if year == 2016 & quarter == 4\n",
      "    replace qcpi = 352.244 if year == 2017 & quarter == 1\n",
      "    replace qcpi = 352.871 if year == 2017 & quarter == 2\n",
      "    replace qcpi = 354.545 if year == 2017 & quarter == 3\n",
      "    replace qcpi = 357.308 if year == 2017 & quarter == 4\n",
      "    replace qcpi = 360.086 if year == 2018 & quarter == 1\n",
      "    replace qcpi = 362.338 if year == 2018 & quarter == 2\n",
      "    replace qcpi = 363.807 if year == 2018 & quarter == 3\n",
      "    replace qcpi = 365.228 if year == 2018 & quarter == 4\n",
      "    replace qcpi = 365.875 if year == 2019 & quarter == 1\n",
      "    replace qcpi = 369.037 if year == 2019 & quarter == 2\n",
      "    replace qcpi = 370.219 if year == 2019 & quarter == 3\n",
      "     replace qcpi = 372.63 if year == 2019 & quarter == 4\n"
     ]
    }
   ],
   "source": [
    "print(foo.to_string(index=False))"
   ]
  },
  {
   "cell_type": "code",
   "execution_count": 97,
   "metadata": {},
   "outputs": [],
   "source": [
    "def colgenerator(stateabb, colname):\n",
    "    '''ONLY FOR STATE UNEMP VARIABLES'''\n",
    "    seriesname = stateabb + \"UR\"\n",
    "    data = fred.get_series(seriesname)\n",
    "    data = pd.DataFrame(data)\n",
    "    data = data.rename(columns = {0: colname})\n",
    "    data = data.loc[(data.index >= \"1979-01-01\") & (data.index <= \"2019-12-01\")]\n",
    "    data[\"year\"] = data.index.year    \n",
    "    data[\"month\"] = data.index.month\n",
    "    data.loc[data[\"month\"].between(1, 3), \"quarter\"] = 1\n",
    "    data.loc[data[\"month\"].between(4, 6), \"quarter\"] = 2\n",
    "    data.loc[data[\"month\"].between(7, 9), \"quarter\"] = 3\n",
    "    data.loc[data[\"month\"].between(10, 12), \"quarter\"] = 4\n",
    "    data = data.reset_index()\n",
    "    data = data.drop(columns = \"index\")\n",
    "    data[\"stateabb\"] = stateabb\n",
    "    return data"
   ]
  },
  {
   "cell_type": "code",
   "execution_count": 98,
   "metadata": {},
   "outputs": [],
   "source": [
    "statedata = pd.read_csv(\"/Users/amedeusdsouza/econ499/code/state_cps_fips_abb_name.csv\")\n",
    "statedata = statedata[statedata[\"state\"] < 500]"
   ]
  },
  {
   "cell_type": "code",
   "execution_count": 99,
   "metadata": {},
   "outputs": [],
   "source": [
    "unempdata = pd.DataFrame()\n",
    "\n",
    "for i in statedata.index:\n",
    "    foo = statedata.loc[i, \"stateabb\"]\n",
    "    data = colgenerator(foo, \"unemp\")\n",
    "    unempdata = unempdata.append(data)"
   ]
  },
  {
   "cell_type": "code",
   "execution_count": 100,
   "metadata": {
    "scrolled": true
   },
   "outputs": [],
   "source": [
    "unempdata = unempdata.merge(statedata, on = \"stateabb\")\n",
    "unempdata = unempdata.drop(columns = [\"stfips\", \"state_name\", \"stateabb\", \"quarter\"], axis = 1)\n",
    "unempdata = unempdata.rename(columns = {\"month\": \"cmonth\"})"
   ]
  },
  {
   "cell_type": "code",
   "execution_count": 102,
   "metadata": {},
   "outputs": [],
   "source": [
    "unempdata.to_stata(\"/Users/amedeusdsouza/Desktop/econ499data/morg/clean_nber_morg_output/unemp.dta\")"
   ]
  },
  {
   "cell_type": "code",
   "execution_count": null,
   "metadata": {},
   "outputs": [],
   "source": []
  }
 ],
 "metadata": {
  "kernelspec": {
   "display_name": "Python 3",
   "language": "python",
   "name": "python3"
  },
  "language_info": {
   "codemirror_mode": {
    "name": "ipython",
    "version": 3
   },
   "file_extension": ".py",
   "mimetype": "text/x-python",
   "name": "python",
   "nbconvert_exporter": "python",
   "pygments_lexer": "ipython3",
   "version": "3.8.5"
  }
 },
 "nbformat": 4,
 "nbformat_minor": 4
}
